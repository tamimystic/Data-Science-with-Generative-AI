{
  "nbformat": 4,
  "nbformat_minor": 0,
  "metadata": {
    "colab": {
      "provenance": [],
      "authorship_tag": "ABX9TyP0XIrkGPIHHaM/VLETCwib",
      "include_colab_link": true
    },
    "kernelspec": {
      "name": "python3",
      "display_name": "Python 3"
    },
    "language_info": {
      "name": "python"
    }
  },
  "cells": [
    {
      "cell_type": "markdown",
      "metadata": {
        "id": "view-in-github",
        "colab_type": "text"
      },
      "source": [
        "<a href=\"https://colab.research.google.com/github/tamimystic/Data-Science-with-Generative-AI/blob/main/Day_1_Python_Introduction.ipynb\" target=\"_parent\"><img src=\"https://colab.research.google.com/assets/colab-badge.svg\" alt=\"Open In Colab\"/></a>"
      ]
    },
    {
      "cell_type": "markdown",
      "source": [
        "# First Day"
      ],
      "metadata": {
        "id": "8OHIacZN8pQN"
      }
    },
    {
      "cell_type": "code",
      "execution_count": 254,
      "metadata": {
        "colab": {
          "base_uri": "https://localhost:8080/"
        },
        "id": "p9lPR7hlCPKF",
        "outputId": "def7fdc8-2c5f-43ef-df02-85c4c4687851"
      },
      "outputs": [
        {
          "output_type": "stream",
          "name": "stdout",
          "text": [
            "hello\n"
          ]
        }
      ],
      "source": [
        "print(\"hello\") #string\n",
        "#print(tamim)       this code did not run,name error, bcz it i did not write it in cotation"
      ]
    },
    {
      "cell_type": "code",
      "source": [
        "print(7) #integer"
      ],
      "metadata": {
        "colab": {
          "base_uri": "https://localhost:8080/"
        },
        "id": "QtIKBV7GCTm_",
        "outputId": "2172b761-b8eb-4286-ac54-ff21334a0472"
      },
      "execution_count": 255,
      "outputs": [
        {
          "output_type": "stream",
          "name": "stdout",
          "text": [
            "7\n"
          ]
        }
      ]
    },
    {
      "cell_type": "code",
      "source": [
        "print(\"7\") #string bcz it write in double cotation"
      ],
      "metadata": {
        "colab": {
          "base_uri": "https://localhost:8080/"
        },
        "id": "KxmgJXaFCqA2",
        "outputId": "02e8fb00-a9d3-4991-c4ed-c0dd974801ee"
      },
      "execution_count": 256,
      "outputs": [
        {
          "output_type": "stream",
          "name": "stdout",
          "text": [
            "7\n"
          ]
        }
      ]
    },
    {
      "cell_type": "code",
      "source": [
        "print(9.7) #float"
      ],
      "metadata": {
        "id": "-XX5y9BkCgRE",
        "colab": {
          "base_uri": "https://localhost:8080/"
        },
        "outputId": "2389ca2d-ed7e-40df-ac5c-c6688563dbc3"
      },
      "execution_count": 257,
      "outputs": [
        {
          "output_type": "stream",
          "name": "stdout",
          "text": [
            "9.7\n"
          ]
        }
      ]
    },
    {
      "cell_type": "code",
      "source": [
        "print(True) #bolean"
      ],
      "metadata": {
        "colab": {
          "base_uri": "https://localhost:8080/"
        },
        "id": "9yKcWIieATnn",
        "outputId": "b12d94ef-d189-41ce-eff3-8905a02cd59a"
      },
      "execution_count": 258,
      "outputs": [
        {
          "output_type": "stream",
          "name": "stdout",
          "text": [
            "True\n"
          ]
        }
      ]
    },
    {
      "cell_type": "code",
      "source": [
        "print(\"hello\",1,2,3,4,5.6,True) #print different types of variable type"
      ],
      "metadata": {
        "colab": {
          "base_uri": "https://localhost:8080/"
        },
        "id": "2pFfcA_VAVl2",
        "outputId": "e4570c18-67cc-478f-ad11-1a1beb2febc9"
      },
      "execution_count": 259,
      "outputs": [
        {
          "output_type": "stream",
          "name": "stdout",
          "text": [
            "hello 1 2 3 4 5.6 True\n"
          ]
        }
      ]
    },
    {
      "cell_type": "code",
      "source": [
        "print(\"hello\",1,2,3,4,5.6,True, sep='----') #use separetor"
      ],
      "metadata": {
        "colab": {
          "base_uri": "https://localhost:8080/"
        },
        "id": "9wYuDB6XAwPw",
        "outputId": "c0362718-c9d5-4e54-b7df-8a12fb7b068b"
      },
      "execution_count": 260,
      "outputs": [
        {
          "output_type": "stream",
          "name": "stdout",
          "text": [
            "hello----1----2----3----4----5.6----True\n"
          ]
        }
      ]
    },
    {
      "cell_type": "code",
      "source": [
        "print(\"Tamim\") #auto new line,bcz by default it work with \\n\n",
        "print(\"Hossain\")"
      ],
      "metadata": {
        "colab": {
          "base_uri": "https://localhost:8080/"
        },
        "id": "akRPDMakA_qe",
        "outputId": "de7cf564-f64f-41f9-e323-c95e8317ba63"
      },
      "execution_count": 261,
      "outputs": [
        {
          "output_type": "stream",
          "name": "stdout",
          "text": [
            "Tamim\n",
            "Hossain\n"
          ]
        }
      ]
    },
    {
      "cell_type": "code",
      "source": [
        "print(\"Tamim\", end='-') #select - in end\n",
        "print(\"Hossain\")"
      ],
      "metadata": {
        "colab": {
          "base_uri": "https://localhost:8080/"
        },
        "id": "_EYRENVbBPyG",
        "outputId": "51322d66-bb37-43b1-ebe6-9dd18966afd5"
      },
      "execution_count": 262,
      "outputs": [
        {
          "output_type": "stream",
          "name": "stdout",
          "text": [
            "Tamim-Hossain\n"
          ]
        }
      ]
    },
    {
      "cell_type": "code",
      "source": [
        "#single line comment\n",
        "print(\"hello\")\n",
        "\n",
        "'''\n",
        "multi line comment\n",
        "'''"
      ],
      "metadata": {
        "colab": {
          "base_uri": "https://localhost:8080/",
          "height": 53
        },
        "id": "Q087Zxm8Dc2G",
        "outputId": "c52eadbe-b91f-4f8d-ceb7-df16a76defa2"
      },
      "execution_count": 263,
      "outputs": [
        {
          "output_type": "stream",
          "name": "stdout",
          "text": [
            "hello\n"
          ]
        },
        {
          "output_type": "execute_result",
          "data": {
            "text/plain": [
              "'\\nmulti line comment\\n'"
            ],
            "application/vnd.google.colaboratory.intrinsic+json": {
              "type": "string"
            }
          },
          "metadata": {},
          "execution_count": 263
        }
      ]
    },
    {
      "cell_type": "markdown",
      "source": [
        "#Data Type in Python <br>\n",
        "1.Integer <br>\n",
        "2. Float (decimal) <br>\n",
        "3.Bolean (True/False) <br>\n",
        "4.String (text) <br>\n",
        "5.Complex <br>\n",
        "6.List <br>\n",
        "7.Tuple <br>\n",
        "8.Set <br>\n",
        "9.Dictionary <br>"
      ],
      "metadata": {
        "id": "uYZC7oCfCUXO"
      }
    },
    {
      "cell_type": "code",
      "source": [
        "print(2)"
      ],
      "metadata": {
        "colab": {
          "base_uri": "https://localhost:8080/"
        },
        "id": "fZ5RZuk2CSOJ",
        "outputId": "c149b747-d94d-41b8-b2db-d179c03e9092"
      },
      "execution_count": 264,
      "outputs": [
        {
          "output_type": "stream",
          "name": "stdout",
          "text": [
            "2\n"
          ]
        }
      ]
    },
    {
      "cell_type": "code",
      "source": [
        "#data type check using type() function\n",
        "#python is case sensitive propgramming language\n",
        "type(2)"
      ],
      "metadata": {
        "colab": {
          "base_uri": "https://localhost:8080/"
        },
        "id": "wprybe3qEtW2",
        "outputId": "04088469-a2ec-407a-dfce-8872d35249d8"
      },
      "execution_count": 265,
      "outputs": [
        {
          "output_type": "execute_result",
          "data": {
            "text/plain": [
              "int"
            ]
          },
          "metadata": {},
          "execution_count": 265
        }
      ]
    },
    {
      "cell_type": "code",
      "source": [
        "type(3.4)"
      ],
      "metadata": {
        "colab": {
          "base_uri": "https://localhost:8080/"
        },
        "id": "sVKvlVJ3EvqX",
        "outputId": "46a692aa-3794-4872-9531-c7e83dbc1c1f"
      },
      "execution_count": 266,
      "outputs": [
        {
          "output_type": "execute_result",
          "data": {
            "text/plain": [
              "float"
            ]
          },
          "metadata": {},
          "execution_count": 266
        }
      ]
    },
    {
      "cell_type": "code",
      "source": [
        "type(True)"
      ],
      "metadata": {
        "colab": {
          "base_uri": "https://localhost:8080/"
        },
        "id": "Pp34Hna0FNgL",
        "outputId": "53b908d5-26cd-4247-a475-3a49112dad4b"
      },
      "execution_count": 267,
      "outputs": [
        {
          "output_type": "execute_result",
          "data": {
            "text/plain": [
              "bool"
            ]
          },
          "metadata": {},
          "execution_count": 267
        }
      ]
    },
    {
      "cell_type": "code",
      "source": [
        "type(\"Tamim\")"
      ],
      "metadata": {
        "colab": {
          "base_uri": "https://localhost:8080/"
        },
        "id": "khrbeITuFPE2",
        "outputId": "70753215-db54-4b63-b331-0c991350af1b"
      },
      "execution_count": 268,
      "outputs": [
        {
          "output_type": "execute_result",
          "data": {
            "text/plain": [
              "str"
            ]
          },
          "metadata": {},
          "execution_count": 268
        }
      ]
    },
    {
      "cell_type": "code",
      "source": [
        "print(6+3j)"
      ],
      "metadata": {
        "colab": {
          "base_uri": "https://localhost:8080/"
        },
        "id": "A7ADcq-CGyvu",
        "outputId": "2e857767-2f57-43ad-f860-7449e06f1f92"
      },
      "execution_count": 269,
      "outputs": [
        {
          "output_type": "stream",
          "name": "stdout",
          "text": [
            "(6+3j)\n"
          ]
        }
      ]
    },
    {
      "cell_type": "code",
      "source": [
        "type(6+3j) #complex"
      ],
      "metadata": {
        "colab": {
          "base_uri": "https://localhost:8080/"
        },
        "id": "rctN1VZBFd_u",
        "outputId": "8dd15df9-56e8-4e69-fddd-63f8e0eb78da"
      },
      "execution_count": 270,
      "outputs": [
        {
          "output_type": "execute_result",
          "data": {
            "text/plain": [
              "complex"
            ]
          },
          "metadata": {},
          "execution_count": 270
        }
      ]
    },
    {
      "cell_type": "code",
      "source": [
        "#List\n",
        "print([2,3,4])\n"
      ],
      "metadata": {
        "colab": {
          "base_uri": "https://localhost:8080/"
        },
        "id": "EgwPVMUwFtVe",
        "outputId": "3a8c6cdf-a0c2-492a-a528-1525cead4510"
      },
      "execution_count": 271,
      "outputs": [
        {
          "output_type": "stream",
          "name": "stdout",
          "text": [
            "[2, 3, 4]\n"
          ]
        }
      ]
    },
    {
      "cell_type": "code",
      "source": [
        "type([2, 3, 4])"
      ],
      "metadata": {
        "colab": {
          "base_uri": "https://localhost:8080/"
        },
        "id": "2H1vgR3BF1Ve",
        "outputId": "2f300a5d-abcb-417c-84cb-165cf362c0b9"
      },
      "execution_count": 272,
      "outputs": [
        {
          "output_type": "execute_result",
          "data": {
            "text/plain": [
              "list"
            ]
          },
          "metadata": {},
          "execution_count": 272
        }
      ]
    },
    {
      "cell_type": "code",
      "source": [
        "#tupple\n",
        "print((2,3,4))"
      ],
      "metadata": {
        "colab": {
          "base_uri": "https://localhost:8080/"
        },
        "id": "VWr87LIFF4Le",
        "outputId": "b0e02eff-47fc-4b41-f418-cc4810f13f34"
      },
      "execution_count": 273,
      "outputs": [
        {
          "output_type": "stream",
          "name": "stdout",
          "text": [
            "(2, 3, 4)\n"
          ]
        }
      ]
    },
    {
      "cell_type": "code",
      "source": [
        "type((2, 3, 4))"
      ],
      "metadata": {
        "colab": {
          "base_uri": "https://localhost:8080/"
        },
        "id": "_Zm_QUe4F-Sv",
        "outputId": "30ad751d-0ab0-45da-ad90-9f5354118e04"
      },
      "execution_count": 274,
      "outputs": [
        {
          "output_type": "execute_result",
          "data": {
            "text/plain": [
              "tuple"
            ]
          },
          "metadata": {},
          "execution_count": 274
        }
      ]
    },
    {
      "cell_type": "code",
      "source": [
        "#set\n",
        "print({1,2,3,4})"
      ],
      "metadata": {
        "colab": {
          "base_uri": "https://localhost:8080/"
        },
        "id": "ZDU61Rx5GEBO",
        "outputId": "f20562b5-41d7-4c67-8e72-dc79548860d6"
      },
      "execution_count": 275,
      "outputs": [
        {
          "output_type": "stream",
          "name": "stdout",
          "text": [
            "{1, 2, 3, 4}\n"
          ]
        }
      ]
    },
    {
      "cell_type": "code",
      "source": [
        "type({1, 2, 3, 4})"
      ],
      "metadata": {
        "colab": {
          "base_uri": "https://localhost:8080/"
        },
        "id": "0k1lxIdkGJLu",
        "outputId": "41ad3035-ec81-44cd-8489-3b2cd78ca6f5"
      },
      "execution_count": 276,
      "outputs": [
        {
          "output_type": "execute_result",
          "data": {
            "text/plain": [
              "set"
            ]
          },
          "metadata": {},
          "execution_count": 276
        }
      ]
    },
    {
      "cell_type": "code",
      "source": [
        "#Dictionary\n",
        "print({\"name\":\"tamim\", \"id\":223311232})"
      ],
      "metadata": {
        "colab": {
          "base_uri": "https://localhost:8080/"
        },
        "id": "Vc-4D-00GMBW",
        "outputId": "bab6182d-ae8e-4490-9a10-6944ac960912"
      },
      "execution_count": 277,
      "outputs": [
        {
          "output_type": "stream",
          "name": "stdout",
          "text": [
            "{'name': 'tamim', 'id': 223311232}\n"
          ]
        }
      ]
    },
    {
      "cell_type": "code",
      "source": [
        "type({'name': 'tamim', 'id': 223311232})"
      ],
      "metadata": {
        "colab": {
          "base_uri": "https://localhost:8080/"
        },
        "id": "WMo8QO2FGXne",
        "outputId": "fa3c39ed-7633-4112-987a-13c646942718"
      },
      "execution_count": 278,
      "outputs": [
        {
          "output_type": "execute_result",
          "data": {
            "text/plain": [
              "dict"
            ]
          },
          "metadata": {},
          "execution_count": 278
        }
      ]
    },
    {
      "cell_type": "markdown",
      "source": [
        "# Variable, Keywords and Identifiers in Python <br>\n"
      ],
      "metadata": {
        "id": "4a7gkRpoHhbW"
      }
    },
    {
      "cell_type": "markdown",
      "source": [
        "1.Variable (\"Container\" where we can store any type of data)"
      ],
      "metadata": {
        "id": "K3WiCpc1H6Su"
      }
    },
    {
      "cell_type": "code",
      "source": [
        "a=5"
      ],
      "metadata": {
        "id": "hD4On4cbGclO"
      },
      "execution_count": 279,
      "outputs": []
    },
    {
      "cell_type": "code",
      "source": [
        "print(a)"
      ],
      "metadata": {
        "colab": {
          "base_uri": "https://localhost:8080/"
        },
        "id": "J7-_SeOkH-ku",
        "outputId": "dcb08173-ac9e-45af-f3ba-6b282bd56f5f"
      },
      "execution_count": 280,
      "outputs": [
        {
          "output_type": "stream",
          "name": "stdout",
          "text": [
            "5\n"
          ]
        }
      ]
    },
    {
      "cell_type": "code",
      "source": [
        "a #it is only for notebook, that means we can print variable without print function"
      ],
      "metadata": {
        "colab": {
          "base_uri": "https://localhost:8080/"
        },
        "id": "DiQPBffgJCJQ",
        "outputId": "1e397f6f-a813-468b-9984-e7aa5404f260"
      },
      "execution_count": 281,
      "outputs": [
        {
          "output_type": "execute_result",
          "data": {
            "text/plain": [
              "5"
            ]
          },
          "metadata": {},
          "execution_count": 281
        }
      ]
    },
    {
      "cell_type": "code",
      "source": [
        "b=4.5"
      ],
      "metadata": {
        "id": "2tFSMUMQJE3Y"
      },
      "execution_count": 282,
      "outputs": []
    },
    {
      "cell_type": "code",
      "source": [
        "print(b)"
      ],
      "metadata": {
        "colab": {
          "base_uri": "https://localhost:8080/"
        },
        "id": "HQoQi_ZkJUIO",
        "outputId": "ee9ad52e-accd-4777-f66d-be4ae9333e12"
      },
      "execution_count": 283,
      "outputs": [
        {
          "output_type": "stream",
          "name": "stdout",
          "text": [
            "4.5\n"
          ]
        }
      ]
    },
    {
      "cell_type": "code",
      "source": [
        "type(b) #varibale data type check"
      ],
      "metadata": {
        "colab": {
          "base_uri": "https://localhost:8080/"
        },
        "id": "-d4JWgTIJWLW",
        "outputId": "0d5fe2c8-d2d0-4862-85fa-bb7cb83f8343"
      },
      "execution_count": 284,
      "outputs": [
        {
          "output_type": "execute_result",
          "data": {
            "text/plain": [
              "float"
            ]
          },
          "metadata": {},
          "execution_count": 284
        }
      ]
    },
    {
      "cell_type": "code",
      "source": [
        "c=False\n",
        "d=\"Colab\"\n",
        "print(c)\n",
        "print(d)"
      ],
      "metadata": {
        "colab": {
          "base_uri": "https://localhost:8080/"
        },
        "id": "S5VmBO88JZGH",
        "outputId": "2a20092f-3cd0-48d0-946d-a1d5d4892537"
      },
      "execution_count": 285,
      "outputs": [
        {
          "output_type": "stream",
          "name": "stdout",
          "text": [
            "False\n",
            "Colab\n"
          ]
        }
      ]
    },
    {
      "cell_type": "code",
      "source": [
        "name= \"Tamim\"\n",
        "print(\"Wellcome\", name)"
      ],
      "metadata": {
        "colab": {
          "base_uri": "https://localhost:8080/"
        },
        "id": "KIz-JcyFJnvQ",
        "outputId": "9a6e8fb6-c3f7-4bef-fec4-565f8811a534"
      },
      "execution_count": 286,
      "outputs": [
        {
          "output_type": "stream",
          "name": "stdout",
          "text": [
            "Wellcome Tamim\n"
          ]
        }
      ]
    },
    {
      "cell_type": "code",
      "source": [
        "e=4\n",
        "f=7\n",
        "#addition\n",
        "print(e+f)\n",
        "#substraction\n",
        "print(e-f)"
      ],
      "metadata": {
        "colab": {
          "base_uri": "https://localhost:8080/"
        },
        "id": "9Oyaz66LJq9_",
        "outputId": "a50186a2-adaf-46fa-be7f-810ae700dfe6"
      },
      "execution_count": 287,
      "outputs": [
        {
          "output_type": "stream",
          "name": "stdout",
          "text": [
            "11\n",
            "-3\n"
          ]
        }
      ]
    },
    {
      "cell_type": "code",
      "source": [
        "#Dynamic Typing (no need to pre-define data type)\n",
        "g=8\n",
        "\n",
        "#Static Typing (need to pre-define data type)\n",
        "#int h=9;\n",
        "\n"
      ],
      "metadata": {
        "id": "wt59z4IjKiS3"
      },
      "execution_count": 288,
      "outputs": []
    },
    {
      "cell_type": "code",
      "source": [
        "#dynamic binding (we can change data type without any kind of hastle, just write/store this kind of data)\n",
        "a=9\n",
        "print(a)\n",
        "a=\"dynamic\"\n",
        "print(a)"
      ],
      "metadata": {
        "colab": {
          "base_uri": "https://localhost:8080/"
        },
        "id": "LniglSC2LYAu",
        "outputId": "793422bb-0fe9-4c33-9789-749908baf26e"
      },
      "execution_count": 289,
      "outputs": [
        {
          "output_type": "stream",
          "name": "stdout",
          "text": [
            "9\n",
            "dynamic\n"
          ]
        }
      ]
    },
    {
      "cell_type": "code",
      "source": [
        "'''\n",
        "#static binding\n",
        "int a=9;\n",
        "print(a)\n",
        "string a=\"dynamic\";\n",
        "print(a)\n",
        "'''"
      ],
      "metadata": {
        "colab": {
          "base_uri": "https://localhost:8080/",
          "height": 35
        },
        "id": "7aauP8vMLeV4",
        "outputId": "1c147e9f-898c-48aa-c6b7-9d32eb3ed813"
      },
      "execution_count": 290,
      "outputs": [
        {
          "output_type": "execute_result",
          "data": {
            "text/plain": [
              "'\\n#static binding\\nint a=9;\\nprint(a)\\nstring a=\"dynamic\";\\nprint(a)\\n'"
            ],
            "application/vnd.google.colaboratory.intrinsic+json": {
              "type": "string"
            }
          },
          "metadata": {},
          "execution_count": 290
        }
      ]
    },
    {
      "cell_type": "code",
      "source": [
        "#python support dynamic binding only"
      ],
      "metadata": {
        "id": "HQH1p2hzMNAH"
      },
      "execution_count": 291,
      "outputs": []
    },
    {
      "cell_type": "code",
      "source": [
        "i=3\n",
        "j=4\n",
        "k=5\n",
        "print(i,j,k) #print in one line"
      ],
      "metadata": {
        "colab": {
          "base_uri": "https://localhost:8080/"
        },
        "id": "CfjChpVsMYfq",
        "outputId": "99780568-a056-4050-cdd7-9402cf94b67a"
      },
      "execution_count": 292,
      "outputs": [
        {
          "output_type": "stream",
          "name": "stdout",
          "text": [
            "3 4 5\n"
          ]
        }
      ]
    },
    {
      "cell_type": "code",
      "source": [
        "i,j,k=3,4,5 #declare in one line\n",
        "print(i,j,k)"
      ],
      "metadata": {
        "colab": {
          "base_uri": "https://localhost:8080/"
        },
        "id": "CzvJxIzBMlEO",
        "outputId": "550bdcd4-d656-4551-e19e-942e796e15e0"
      },
      "execution_count": 293,
      "outputs": [
        {
          "output_type": "stream",
          "name": "stdout",
          "text": [
            "3 4 5\n"
          ]
        }
      ]
    },
    {
      "cell_type": "code",
      "source": [
        "i=4\n",
        "j=4\n",
        "k=4\n",
        "print(i,j,k)\n",
        "#for this same value we can declare with one line with equale\n",
        "i=j=k=4\n",
        "print(i,j,k)"
      ],
      "metadata": {
        "colab": {
          "base_uri": "https://localhost:8080/"
        },
        "id": "AWRo9yZ6Mz42",
        "outputId": "28e45dcb-42ef-47b3-b32d-e0e640df7b7b"
      },
      "execution_count": 294,
      "outputs": [
        {
          "output_type": "stream",
          "name": "stdout",
          "text": [
            "4 4 4\n",
            "4 4 4\n"
          ]
        }
      ]
    },
    {
      "cell_type": "markdown",
      "source": [
        "2. Keyword in Python (39 Keyword)"
      ],
      "metadata": {
        "id": "CYsKY2yONUaM"
      }
    },
    {
      "cell_type": "markdown",
      "source": [
        "False\n",
        "\n",
        "\n",
        "\n",
        "\n",
        "None\n",
        "\n",
        "\n",
        "\n",
        "\n",
        "True\n",
        "\n",
        "\n",
        "\n",
        "\n",
        "and\n",
        "\n",
        "\n",
        "\n",
        "\n",
        "as\n",
        "\n",
        "\n",
        "\n",
        "\n",
        "assert\n",
        "\n",
        "\n",
        "\n",
        "\n",
        "async\n",
        "\n",
        "\n",
        "\n",
        "\n",
        "await\n",
        "\n",
        "\n",
        "\n",
        "\n",
        "break\n",
        "\n",
        "\n",
        "\n",
        "\n",
        "class\n",
        "\n",
        "\n",
        "\n",
        "\n",
        "continue\n",
        "\n",
        "\n",
        "\n",
        "\n",
        "def\n",
        "\n",
        "\n",
        "\n",
        "\n",
        "del\n",
        "\n",
        "\n",
        "\n",
        "\n",
        "elif\n",
        "\n",
        "\n",
        "\n",
        "\n",
        "else\n",
        "\n",
        "\n",
        "\n",
        "\n",
        "except\n",
        "\n",
        "\n",
        "\n",
        "\n",
        "finally\n",
        "\n",
        "\n",
        "\n",
        "\n",
        "for\n",
        "\n",
        "\n",
        "\n",
        "\n",
        "from\n",
        "\n",
        "\n",
        "\n",
        "\n",
        "global\n",
        "\n",
        "\n",
        "\n",
        "\n",
        "if\n",
        "\n",
        "\n",
        "\n",
        "\n",
        "import\n",
        "\n",
        "\n",
        "\n",
        "\n",
        "in\n",
        "\n",
        "\n",
        "\n",
        "\n",
        "is\n",
        "\n",
        "\n",
        "\n",
        "\n",
        "lambda\n",
        "\n",
        "\n",
        "\n",
        "\n",
        "nonlocal\n",
        "\n",
        "\n",
        "\n",
        "\n",
        "not\n",
        "\n",
        "\n",
        "\n",
        "\n",
        "or\n",
        "\n",
        "\n",
        "\n",
        "\n",
        "pass\n",
        "\n",
        "\n",
        "\n",
        "\n",
        "raise\n",
        "\n",
        "\n",
        "\n",
        "\n",
        "return\n",
        "\n",
        "\n",
        "\n",
        "\n",
        "try\n",
        "\n",
        "\n",
        "\n",
        "\n",
        "while\n",
        "\n",
        "\n",
        "\n",
        "\n",
        "with\n",
        "\n",
        "\n",
        "\n",
        "\n",
        "yield\n",
        "\n"
      ],
      "metadata": {
        "id": "H9fQDpLbN5sX"
      }
    },
    {
      "cell_type": "code",
      "source": [
        "'''\n",
        "keyword is that which type of word we use for specific task, for understand to machine\n",
        "'''"
      ],
      "metadata": {
        "colab": {
          "base_uri": "https://localhost:8080/",
          "height": 35
        },
        "id": "RaR10wEGNHCu",
        "outputId": "ea80b365-b3ef-4a8b-dc88-6bb658400a2b"
      },
      "execution_count": 295,
      "outputs": [
        {
          "output_type": "execute_result",
          "data": {
            "text/plain": [
              "'\\nkeyword is that which type of word we use for specific task, for understand to machine\\n'"
            ],
            "application/vnd.google.colaboratory.intrinsic+json": {
              "type": "string"
            }
          },
          "metadata": {},
          "execution_count": 295
        }
      ]
    },
    {
      "cell_type": "markdown",
      "source": [
        "3.Identifiers (same as Kewword)"
      ],
      "metadata": {
        "id": "DZkHD67mO2eP"
      }
    },
    {
      "cell_type": "code",
      "source": [
        "''''\n",
        "1. means means if i declare variable for name, if would be name,studentName it is more efficient, if i declare variable for name like dfjsdjf,jdfhio, or something like that, it is not effient/right\n",
        "\n",
        "'''"
      ],
      "metadata": {
        "colab": {
          "base_uri": "https://localhost:8080/",
          "height": 35
        },
        "id": "NA49llN1O58e",
        "outputId": "42a71e58-f2e2-4dec-ca62-858115053703"
      },
      "execution_count": 296,
      "outputs": [
        {
          "output_type": "execute_result",
          "data": {
            "text/plain": [
              "\"'\\n1. means means if i declare variable for name, if would be name,studentName it is more efficient, if i declare variable for name like dfjsdjf,jdfhio, or something like that, it is not effient/right\\n\\n\""
            ],
            "application/vnd.google.colaboratory.intrinsic+json": {
              "type": "string"
            }
          },
          "metadata": {},
          "execution_count": 296
        }
      ]
    },
    {
      "cell_type": "code",
      "source": [
        "'''\n",
        "Must begin with a letter (A-z) or an underscore (_).\n",
        "'''"
      ],
      "metadata": {
        "colab": {
          "base_uri": "https://localhost:8080/",
          "height": 35
        },
        "id": "ad8z9V82Pog0",
        "outputId": "2bb3bdb5-e74e-4d42-e127-997b00e42741"
      },
      "execution_count": 297,
      "outputs": [
        {
          "output_type": "execute_result",
          "data": {
            "text/plain": [
              "'\\nMust begin with a letter (A-z) or an underscore (_).\\n'"
            ],
            "application/vnd.google.colaboratory.intrinsic+json": {
              "type": "string"
            }
          },
          "metadata": {},
          "execution_count": 297
        }
      ]
    },
    {
      "cell_type": "code",
      "source": [
        "''''\n",
        "Cannot start with a digit (0-9).\n",
        "'''"
      ],
      "metadata": {
        "colab": {
          "base_uri": "https://localhost:8080/",
          "height": 35
        },
        "id": "71CLyvmMP4LK",
        "outputId": "c381bd1a-be21-4690-8ce5-a208319e454c"
      },
      "execution_count": 298,
      "outputs": [
        {
          "output_type": "execute_result",
          "data": {
            "text/plain": [
              "\"'\\nCannot start with a digit (0-9).\\n\""
            ],
            "application/vnd.google.colaboratory.intrinsic+json": {
              "type": "string"
            }
          },
          "metadata": {},
          "execution_count": 298
        }
      ]
    },
    {
      "cell_type": "code",
      "source": [
        "'''\n",
        "Can contain letters, digits, and underscores.\n",
        "'''"
      ],
      "metadata": {
        "colab": {
          "base_uri": "https://localhost:8080/",
          "height": 35
        },
        "id": "KcyRKjPBQPVX",
        "outputId": "93311cae-0045-4ee7-c8cc-259c99b7109c"
      },
      "execution_count": 299,
      "outputs": [
        {
          "output_type": "execute_result",
          "data": {
            "text/plain": [
              "'\\nCan contain letters, digits, and underscores.\\n'"
            ],
            "application/vnd.google.colaboratory.intrinsic+json": {
              "type": "string"
            }
          },
          "metadata": {},
          "execution_count": 299
        }
      ]
    },
    {
      "cell_type": "code",
      "source": [
        "'''\n",
        "Cannot be a reserved Python keyword.\n",
        "'''"
      ],
      "metadata": {
        "colab": {
          "base_uri": "https://localhost:8080/",
          "height": 35
        },
        "id": "ZmHDduy8QRTv",
        "outputId": "95bcc0ee-0efa-43cb-ef89-263fa6168072"
      },
      "execution_count": 300,
      "outputs": [
        {
          "output_type": "execute_result",
          "data": {
            "text/plain": [
              "'\\nCannot be a reserved Python keyword.\\n'"
            ],
            "application/vnd.google.colaboratory.intrinsic+json": {
              "type": "string"
            }
          },
          "metadata": {},
          "execution_count": 300
        }
      ]
    },
    {
      "cell_type": "code",
      "source": [
        "'''\n",
        "Are case-sensitive (e.g., Age and age are different).\n",
        "'''"
      ],
      "metadata": {
        "colab": {
          "base_uri": "https://localhost:8080/",
          "height": 35
        },
        "id": "yD41NHkWQVeJ",
        "outputId": "1fe05845-5aa7-45af-defe-2c19121357b6"
      },
      "execution_count": 301,
      "outputs": [
        {
          "output_type": "execute_result",
          "data": {
            "text/plain": [
              "'\\nAre case-sensitive (e.g., Age and age are different).\\n'"
            ],
            "application/vnd.google.colaboratory.intrinsic+json": {
              "type": "string"
            }
          },
          "metadata": {},
          "execution_count": 301
        }
      ]
    },
    {
      "cell_type": "markdown",
      "source": [
        "#Python Input\n",
        "**(for take data from user)**"
      ],
      "metadata": {
        "id": "h-sm05YeRqMZ"
      }
    },
    {
      "cell_type": "markdown",
      "source": [
        "**Application type**\n",
        "Static- Calender, Clock,\n",
        "Dynamic -Youtube, Facebook"
      ],
      "metadata": {
        "id": "s90bn1aPR9js"
      }
    },
    {
      "cell_type": "code",
      "source": [
        "input()"
      ],
      "metadata": {
        "colab": {
          "base_uri": "https://localhost:8080/",
          "height": 53
        },
        "id": "O5eggynTc-V9",
        "outputId": "08024331-a6af-41e8-9ca2-7c9d1d165832"
      },
      "execution_count": 302,
      "outputs": [
        {
          "name": "stdout",
          "output_type": "stream",
          "text": [
            "7\n"
          ]
        },
        {
          "output_type": "execute_result",
          "data": {
            "text/plain": [
              "'7'"
            ],
            "application/vnd.google.colaboratory.intrinsic+json": {
              "type": "string"
            }
          },
          "metadata": {},
          "execution_count": 302
        }
      ]
    },
    {
      "cell_type": "code",
      "source": [
        "input()"
      ],
      "metadata": {
        "colab": {
          "base_uri": "https://localhost:8080/",
          "height": 53
        },
        "id": "fCVW-yffTxmO",
        "outputId": "192d6244-a75f-4495-d716-1294fe007d60"
      },
      "execution_count": 303,
      "outputs": [
        {
          "name": "stdout",
          "output_type": "stream",
          "text": [
            "tamim\n"
          ]
        },
        {
          "output_type": "execute_result",
          "data": {
            "text/plain": [
              "'tamim'"
            ],
            "application/vnd.google.colaboratory.intrinsic+json": {
              "type": "string"
            }
          },
          "metadata": {},
          "execution_count": 303
        }
      ]
    },
    {
      "cell_type": "code",
      "source": [
        "var=input() #store a variable input data"
      ],
      "metadata": {
        "colab": {
          "base_uri": "https://localhost:8080/"
        },
        "id": "0eYV1FRlUYSR",
        "outputId": "6ec7df73-c42a-46f2-beb8-c2fcd90d6c92"
      },
      "execution_count": 304,
      "outputs": [
        {
          "name": "stdout",
          "output_type": "stream",
          "text": [
            "7\n"
          ]
        }
      ]
    },
    {
      "cell_type": "code",
      "source": [
        "name=input()"
      ],
      "metadata": {
        "colab": {
          "base_uri": "https://localhost:8080/"
        },
        "id": "1RD38ahIUion",
        "outputId": "33d5b8e5-0ecd-4431-f5d1-5e603e9a23ed"
      },
      "execution_count": 305,
      "outputs": [
        {
          "name": "stdout",
          "output_type": "stream",
          "text": [
            "Tamim\n"
          ]
        }
      ]
    },
    {
      "cell_type": "code",
      "source": [
        "# lets make a calculator\n",
        "num1=input(\"Enter your first number: \")\n",
        "num2=input(\"Enter your second number: \")\n",
        "print(num1+num2)"
      ],
      "metadata": {
        "colab": {
          "base_uri": "https://localhost:8080/"
        },
        "id": "ttBmvyrFUmIm",
        "outputId": "e2d1cfac-e191-4ef2-db52-f48d5b8ac2b6"
      },
      "execution_count": 306,
      "outputs": [
        {
          "output_type": "stream",
          "name": "stdout",
          "text": [
            "Enter your first number: 8\n",
            "Enter your second number: 5\n",
            "85\n"
          ]
        }
      ]
    },
    {
      "cell_type": "code",
      "source": [
        "# we need to type casting, bcz by default taking input data is string\n",
        "num1_typeCasting=int(num1)\n",
        "num2_typeCasting=int(num2)\n",
        "print(num1_typeCasting+num2_typeCasting)"
      ],
      "metadata": {
        "colab": {
          "base_uri": "https://localhost:8080/"
        },
        "id": "cLGXOdPcVuqi",
        "outputId": "32e923aa-62ba-479e-9160-13bda2c53368"
      },
      "execution_count": 307,
      "outputs": [
        {
          "output_type": "stream",
          "name": "stdout",
          "text": [
            "13\n"
          ]
        }
      ]
    },
    {
      "cell_type": "code",
      "source": [
        "#another approach\n",
        "num1=int(input(\"Enter your first number: \"))\n",
        "num2=int(input(\"Enter your second number: \"))\n",
        "print(num1+num2)"
      ],
      "metadata": {
        "colab": {
          "base_uri": "https://localhost:8080/"
        },
        "id": "TOELaq7GVPMm",
        "outputId": "14ee3850-874a-4cc9-c66c-f722a0ac78d0"
      },
      "execution_count": 308,
      "outputs": [
        {
          "output_type": "stream",
          "name": "stdout",
          "text": [
            "Enter your first number: 8\n",
            "Enter your second number: 5\n",
            "13\n"
          ]
        }
      ]
    },
    {
      "cell_type": "code",
      "source": [
        "#substraction\n",
        "sub=num1-num2"
      ],
      "metadata": {
        "id": "hmi1dRwVVoI2"
      },
      "execution_count": 309,
      "outputs": []
    },
    {
      "cell_type": "markdown",
      "source": [
        "# Type Casting/Type Conversion <br>\n",
        "\n",
        "1.Implicit - Internally by Python <br>\n",
        "2.Explicit - By the Programmer"
      ],
      "metadata": {
        "id": "yarJoO3EWV-u"
      }
    },
    {
      "cell_type": "markdown",
      "source": [
        "**But Complex number we can not convert any type of data**"
      ],
      "metadata": {
        "id": "wIaGspp2YjOQ"
      }
    },
    {
      "cell_type": "code",
      "source": [
        "#Implicit\n",
        "a=5+5.5\n",
        "\n",
        "print(type(a))\n",
        "print(a)"
      ],
      "metadata": {
        "colab": {
          "base_uri": "https://localhost:8080/"
        },
        "id": "luE_UF8EWUwe",
        "outputId": "5ac162a1-d0c5-4455-9959-d95440f5f4e8"
      },
      "execution_count": 310,
      "outputs": [
        {
          "output_type": "stream",
          "name": "stdout",
          "text": [
            "<class 'float'>\n",
            "10.5\n"
          ]
        }
      ]
    },
    {
      "cell_type": "code",
      "source": [
        "#Explicit\n",
        "r=str(4)\n",
        "type(r)"
      ],
      "metadata": {
        "colab": {
          "base_uri": "https://localhost:8080/"
        },
        "id": "7KMMNkWuXdnB",
        "outputId": "04ee2019-a3d8-4634-93e3-4f4ec11fe169"
      },
      "execution_count": 311,
      "outputs": [
        {
          "output_type": "execute_result",
          "data": {
            "text/plain": [
              "str"
            ]
          },
          "metadata": {},
          "execution_count": 311
        }
      ]
    },
    {
      "cell_type": "code",
      "source": [
        "t=int(\"4\")\n",
        "type(t)"
      ],
      "metadata": {
        "colab": {
          "base_uri": "https://localhost:8080/"
        },
        "id": "Bz3lC2IoXkw2",
        "outputId": "e4c35ab1-2e53-4977-88fa-d91cb32888f1"
      },
      "execution_count": 312,
      "outputs": [
        {
          "output_type": "execute_result",
          "data": {
            "text/plain": [
              "int"
            ]
          },
          "metadata": {},
          "execution_count": 312
        }
      ]
    },
    {
      "cell_type": "code",
      "source": [
        "b=4+int(\"4\")\n",
        "print(type(b))\n",
        "print(b)\n"
      ],
      "metadata": {
        "colab": {
          "base_uri": "https://localhost:8080/"
        },
        "id": "f25tPcaAW7N5",
        "outputId": "607c5ebd-c08d-4a0e-ebf0-2030e1fcc904"
      },
      "execution_count": 313,
      "outputs": [
        {
          "output_type": "stream",
          "name": "stdout",
          "text": [
            "<class 'int'>\n",
            "8\n"
          ]
        }
      ]
    },
    {
      "cell_type": "code",
      "source": [
        "num=34\n",
        "\n",
        "print(float(34))"
      ],
      "metadata": {
        "colab": {
          "base_uri": "https://localhost:8080/"
        },
        "id": "4gNdCgSGXLCf",
        "outputId": "10248eb0-eb14-4ca3-dde6-72f2c28af718"
      },
      "execution_count": 314,
      "outputs": [
        {
          "output_type": "stream",
          "name": "stdout",
          "text": [
            "34.0\n"
          ]
        }
      ]
    },
    {
      "cell_type": "markdown",
      "source": [
        "# Literals in Python\n",
        "**It is this type of value that we write in code directly, like 3,4.6 or something like that** <br>\n",
        "1.Integer literal <br>\n",
        "2.Float literal <br>\n",
        "3.String literal <br>\n",
        "4.Binary literal <br>\n",
        "5.Octal literal <br>\n",
        "6.Decimal literal <br>\n",
        "7.Hexa-decimal literal <br>\n",
        "8.Boolean literal <br>\n",
        "9.None literal <br>\n",
        "10.Complex literal <br>\n"
      ],
      "metadata": {
        "id": "OFNFaGcAZybE"
      }
    },
    {
      "cell_type": "markdown",
      "source": [
        "**1.Integer literal**"
      ],
      "metadata": {
        "id": "WMvbD47cmxeq"
      }
    },
    {
      "cell_type": "code",
      "source": [
        "# here 3 is integer type value\n",
        "a=3\n",
        "\n",
        "type(a)"
      ],
      "metadata": {
        "colab": {
          "base_uri": "https://localhost:8080/"
        },
        "id": "_R4lrXLHX-LY",
        "outputId": "be705705-0a1d-4b2b-e35a-353bf3f9a893"
      },
      "execution_count": 315,
      "outputs": [
        {
          "output_type": "execute_result",
          "data": {
            "text/plain": [
              "int"
            ]
          },
          "metadata": {},
          "execution_count": 315
        }
      ]
    },
    {
      "cell_type": "markdown",
      "source": [
        "**2.Float literal**"
      ],
      "metadata": {
        "id": "gBAexCuvnOtg"
      }
    },
    {
      "cell_type": "code",
      "source": [
        "#float literals\n",
        "float1=10.5\n",
        "float2=1.5e3 #1.5 *10^2    #Scientific notation\n",
        "float3=1.5e-3 #1.5*10^-3   #Scientific notation\n",
        "\n",
        "print(float1, float2, float3, sep=\"\\n\")"
      ],
      "metadata": {
        "colab": {
          "base_uri": "https://localhost:8080/"
        },
        "id": "wt4sw0gCnOi1",
        "outputId": "770792c9-f0f5-4a19-dd39-ba3ae9cb9068"
      },
      "execution_count": 316,
      "outputs": [
        {
          "output_type": "stream",
          "name": "stdout",
          "text": [
            "10.5\n",
            "1500.0\n",
            "0.0015\n"
          ]
        }
      ]
    },
    {
      "cell_type": "markdown",
      "source": [
        "**3.String literal**"
      ],
      "metadata": {
        "id": "lMjFb4YBnbTI"
      }
    },
    {
      "cell_type": "code",
      "source": [
        "strings=\"this is python\"\n",
        "stringss=\"hello from rajshahi\"\n",
        "char='c'\n",
        "multiline_str=\"\"\"This is a multiline string with more than one line code.\"\"\"\n",
        "unicode=u\"\\U0001f600\\U0001F606\\U0001F923\"\n",
        "raw_str=r\"raw \\n string\"\n",
        "\n",
        "\n",
        "print(strings)\n",
        "print(stringss)\n",
        "print(char)\n",
        "print(multiline_str)\n",
        "print(unicode)\n",
        "print(raw_str)"
      ],
      "metadata": {
        "colab": {
          "base_uri": "https://localhost:8080/"
        },
        "id": "14I909XKna0I",
        "outputId": "9f853c09-e3cd-45f3-abdb-6ab9892473e2"
      },
      "execution_count": 317,
      "outputs": [
        {
          "output_type": "stream",
          "name": "stdout",
          "text": [
            "this is python\n",
            "hello from rajshahi\n",
            "c\n",
            "This is a multiline string with more than one line code.\n",
            "😀😆🤣\n",
            "raw \\n string\n"
          ]
        }
      ]
    },
    {
      "cell_type": "markdown",
      "source": [
        "**4.Binary literal**"
      ],
      "metadata": {
        "id": "pB_tAAqwoIdD"
      }
    },
    {
      "cell_type": "code",
      "source": [
        "#Binary literals\n",
        "a=0b1010\n",
        "\n",
        "print(a)\n",
        "print(type(a))"
      ],
      "metadata": {
        "colab": {
          "base_uri": "https://localhost:8080/"
        },
        "id": "ad3DcOV4agXH",
        "outputId": "a346329c-4cdf-4741-ba6e-4cafdba77a92"
      },
      "execution_count": 318,
      "outputs": [
        {
          "output_type": "stream",
          "name": "stdout",
          "text": [
            "10\n",
            "<class 'int'>\n"
          ]
        }
      ]
    },
    {
      "cell_type": "markdown",
      "source": [
        "**5.Octal literal**"
      ],
      "metadata": {
        "id": "MUszQHJaoeH2"
      }
    },
    {
      "cell_type": "code",
      "source": [
        "#Octal literals\n",
        "c = 0o34\n",
        "\n",
        "print(c)\n",
        "print(type(c))"
      ],
      "metadata": {
        "colab": {
          "base_uri": "https://localhost:8080/"
        },
        "id": "W4p-Fu0roX6r",
        "outputId": "80da7620-16a6-48af-e727-8f96cba75340"
      },
      "execution_count": 319,
      "outputs": [
        {
          "output_type": "stream",
          "name": "stdout",
          "text": [
            "28\n",
            "<class 'int'>\n"
          ]
        }
      ]
    },
    {
      "cell_type": "markdown",
      "source": [
        "**6.Decimal literal**"
      ],
      "metadata": {
        "id": "rBKr2PYsoia4"
      }
    },
    {
      "cell_type": "code",
      "source": [
        "#decimal literals\n",
        "b=100\n",
        "\n",
        "print(b)\n",
        "print(type(b))"
      ],
      "metadata": {
        "colab": {
          "base_uri": "https://localhost:8080/"
        },
        "id": "aoEeaRg-a5Fo",
        "outputId": "274ffa1d-c8dd-44a8-8678-8ca13bfafbfc"
      },
      "execution_count": 320,
      "outputs": [
        {
          "output_type": "stream",
          "name": "stdout",
          "text": [
            "100\n",
            "<class 'int'>\n"
          ]
        }
      ]
    },
    {
      "cell_type": "markdown",
      "source": [
        "**7.Hexa-decimal literal**"
      ],
      "metadata": {
        "id": "9qK8pVnXom7Z"
      }
    },
    {
      "cell_type": "code",
      "source": [
        "h=0x54\n",
        "\n",
        "print(h)\n",
        "print(type(h))"
      ],
      "metadata": {
        "colab": {
          "base_uri": "https://localhost:8080/"
        },
        "id": "Gw8Ne3RZopcI",
        "outputId": "2fa096b4-ff9d-4c2a-bedb-c230e3508800"
      },
      "execution_count": 321,
      "outputs": [
        {
          "output_type": "stream",
          "name": "stdout",
          "text": [
            "84\n",
            "<class 'int'>\n"
          ]
        }
      ]
    },
    {
      "cell_type": "markdown",
      "source": [
        "**8.Boolean literal**"
      ],
      "metadata": {
        "id": "9DPZKyPppgXt"
      }
    },
    {
      "cell_type": "code",
      "source": [
        "#Boolean literals\n",
        "#True=1\n",
        "#False=0\n",
        "\n",
        "a=True+4\n",
        "b=True+3\n",
        "\n",
        "print(\"a:\",a) #here True means 1, so 1+4=5\n",
        "print(\"b:\",b)"
      ],
      "metadata": {
        "colab": {
          "base_uri": "https://localhost:8080/"
        },
        "id": "tDjQD6krck9_",
        "outputId": "bf131f52-f6e5-436c-af32-873fac72bd15"
      },
      "execution_count": 322,
      "outputs": [
        {
          "output_type": "stream",
          "name": "stdout",
          "text": [
            "a: 5\n",
            "b: 4\n"
          ]
        }
      ]
    },
    {
      "cell_type": "markdown",
      "source": [
        "**9.None literal**"
      ],
      "metadata": {
        "id": "IxxE6LgjpkrN"
      }
    },
    {
      "cell_type": "code",
      "source": [
        "#None Literals\n",
        "a=None #it can be a='', a=0, a=False\n",
        "\n",
        "b=4\n",
        "c=5\n",
        "print(a,b,c)"
      ],
      "metadata": {
        "colab": {
          "base_uri": "https://localhost:8080/"
        },
        "id": "39OYJIXXdVny",
        "outputId": "a00855e7-a790-464b-aa50-cfe244deecba"
      },
      "execution_count": 323,
      "outputs": [
        {
          "output_type": "stream",
          "name": "stdout",
          "text": [
            "None 4 5\n"
          ]
        }
      ]
    },
    {
      "cell_type": "markdown",
      "source": [
        "**10.Complex literal**"
      ],
      "metadata": {
        "id": "2-zc-NG6pBwo"
      }
    },
    {
      "cell_type": "code",
      "source": [
        "x=3.14j\n",
        "\n",
        "print(x)\n",
        "print(type(x))\n",
        "\n",
        "print(x, x.imag, x.real)"
      ],
      "metadata": {
        "colab": {
          "base_uri": "https://localhost:8080/"
        },
        "id": "W-_JFI5UpDiI",
        "outputId": "c8e00d24-7bc1-42a6-926c-2f0e7b987cc2"
      },
      "execution_count": 324,
      "outputs": [
        {
          "output_type": "stream",
          "name": "stdout",
          "text": [
            "3.14j\n",
            "<class 'complex'>\n",
            "3.14j 3.14 0.0\n"
          ]
        }
      ]
    },
    {
      "cell_type": "markdown",
      "source": [
        "# Operators in Python <br>\n",
        "1. Arithmetic Operators <br>\n",
        "2.Relational Operators <br>\n",
        "3.Logical Operators <br>\n",
        "4.Bitwise Operators <br>\n",
        "5.Assignment Operators <br>\n",
        "6.Membership Operators <br>"
      ],
      "metadata": {
        "id": "zWQAvrzWesjx"
      }
    },
    {
      "cell_type": "markdown",
      "source": [
        "**1. Arithmetic Operators**"
      ],
      "metadata": {
        "id": "TQMvTExbfOYS"
      }
    },
    {
      "cell_type": "code",
      "source": [
        "# + , - , * , / , // , % , ** ,\n",
        "a=8\n",
        "b=3\n",
        "print(a+b)\n",
        "print(a-b)\n",
        "print(a*b)\n",
        "print(a/b)\n",
        "print(a//b) #integer division, if we dont want float value\n",
        "print(a%b)\n",
        "print(a**b)\n"
      ],
      "metadata": {
        "colab": {
          "base_uri": "https://localhost:8080/"
        },
        "id": "EwPD3JQIdVZv",
        "outputId": "5f0b4be3-8525-43bc-be81-abeebe0b8f68"
      },
      "execution_count": 325,
      "outputs": [
        {
          "output_type": "stream",
          "name": "stdout",
          "text": [
            "11\n",
            "5\n",
            "24\n",
            "2.6666666666666665\n",
            "2\n",
            "2\n",
            "512\n"
          ]
        }
      ]
    },
    {
      "cell_type": "markdown",
      "source": [
        "**2.Relational Operators** <br>\n",
        " -> mainly used for check relation using some operator, called relational operator"
      ],
      "metadata": {
        "id": "l8nBbjI-ftzm"
      }
    },
    {
      "cell_type": "code",
      "source": [
        "print(4>5)"
      ],
      "metadata": {
        "colab": {
          "base_uri": "https://localhost:8080/"
        },
        "id": "iyp9r6Jzfxd_",
        "outputId": "a40daa6e-647c-48bf-a6f7-e6f1889b7b1f"
      },
      "execution_count": 326,
      "outputs": [
        {
          "output_type": "stream",
          "name": "stdout",
          "text": [
            "False\n"
          ]
        }
      ]
    },
    {
      "cell_type": "code",
      "source": [
        "print(7<9)"
      ],
      "metadata": {
        "colab": {
          "base_uri": "https://localhost:8080/"
        },
        "id": "ZHM8lrkQgHEP",
        "outputId": "10922c87-eb26-4d5c-f361-2b19e17940e9"
      },
      "execution_count": 327,
      "outputs": [
        {
          "output_type": "stream",
          "name": "stdout",
          "text": [
            "True\n"
          ]
        }
      ]
    },
    {
      "cell_type": "code",
      "source": [
        "print(3<=3)"
      ],
      "metadata": {
        "colab": {
          "base_uri": "https://localhost:8080/"
        },
        "id": "OXMvJ8f-gJGP",
        "outputId": "802317a5-8e38-4201-a7e3-e0be85953ed2"
      },
      "execution_count": 328,
      "outputs": [
        {
          "output_type": "stream",
          "name": "stdout",
          "text": [
            "True\n"
          ]
        }
      ]
    },
    {
      "cell_type": "code",
      "source": [
        "print(1!=1)"
      ],
      "metadata": {
        "colab": {
          "base_uri": "https://localhost:8080/"
        },
        "id": "9eq0hpvigMY3",
        "outputId": "b8ce63d9-c27f-4ef4-83c0-e64ace06a074"
      },
      "execution_count": 329,
      "outputs": [
        {
          "output_type": "stream",
          "name": "stdout",
          "text": [
            "False\n"
          ]
        }
      ]
    },
    {
      "cell_type": "markdown",
      "source": [
        "**3.Logical Operators** <br>\n",
        "  ->and <br>\n",
        "  ->or <br>\n",
        "  ->not <br>"
      ],
      "metadata": {
        "id": "lZloJk9rgh_w"
      }
    },
    {
      "cell_type": "code",
      "source": [
        "# and operator\n",
        "print(1 and 0)"
      ],
      "metadata": {
        "colab": {
          "base_uri": "https://localhost:8080/"
        },
        "id": "u6vN8YxpgQWn",
        "outputId": "ff5fc118-a5bf-49c4-f42f-557d3acd9acf"
      },
      "execution_count": 330,
      "outputs": [
        {
          "output_type": "stream",
          "name": "stdout",
          "text": [
            "0\n"
          ]
        }
      ]
    },
    {
      "cell_type": "code",
      "source": [
        "# not operator\n",
        "print(not 1)"
      ],
      "metadata": {
        "colab": {
          "base_uri": "https://localhost:8080/"
        },
        "id": "UHOBeDJqg-XZ",
        "outputId": "ce94f80f-14f9-4e7e-f58e-d887fa085753"
      },
      "execution_count": 331,
      "outputs": [
        {
          "output_type": "stream",
          "name": "stdout",
          "text": [
            "False\n"
          ]
        }
      ]
    },
    {
      "cell_type": "code",
      "source": [
        "# or operator\n",
        "print(1 or 0)"
      ],
      "metadata": {
        "colab": {
          "base_uri": "https://localhost:8080/"
        },
        "id": "weWqJYWwhAof",
        "outputId": "c83a90b0-ea6d-4528-bbc1-b982c9b88668"
      },
      "execution_count": 332,
      "outputs": [
        {
          "output_type": "stream",
          "name": "stdout",
          "text": [
            "1\n"
          ]
        }
      ]
    },
    {
      "cell_type": "markdown",
      "source": [
        "**4.Bitwise Operators** <br> *This type of operator that can perform 'binary bits' on integer value* <br>\n",
        "-> bitwise and <br>\n",
        "-> bitwise or <br>\n",
        "-> bitwise not <br>\n",
        "-> bitwise right-shift <br>\n",
        "-> bitwise left-shift <br>\n"
      ],
      "metadata": {
        "id": "FB0P3fcShMk-"
      }
    },
    {
      "cell_type": "markdown",
      "source": [
        "**declare value**"
      ],
      "metadata": {
        "id": "mlUUdyClrj7Q"
      }
    },
    {
      "cell_type": "code",
      "source": [
        "a=10 #1010\n",
        "b=4 #0100"
      ],
      "metadata": {
        "id": "bzBu8dpfq5tq"
      },
      "execution_count": 333,
      "outputs": []
    },
    {
      "cell_type": "markdown",
      "source": [
        "**Bitwise and**"
      ],
      "metadata": {
        "id": "p-DEhK5GracA"
      }
    },
    {
      "cell_type": "code",
      "source": [
        "print(a&b) #0b0000->0"
      ],
      "metadata": {
        "colab": {
          "base_uri": "https://localhost:8080/"
        },
        "id": "Fiioi6aShHsb",
        "outputId": "f76e1b2e-7329-4a7f-bc1e-e74f5e7ad4b2"
      },
      "execution_count": 334,
      "outputs": [
        {
          "output_type": "stream",
          "name": "stdout",
          "text": [
            "0\n"
          ]
        }
      ]
    },
    {
      "cell_type": "markdown",
      "source": [
        "**Bitwise or**"
      ],
      "metadata": {
        "id": "zTHtQxntrpd9"
      }
    },
    {
      "cell_type": "code",
      "source": [
        "print(a|b) # 0b1110->14"
      ],
      "metadata": {
        "colab": {
          "base_uri": "https://localhost:8080/"
        },
        "id": "pooj9eHWroX5",
        "outputId": "d816ebf0-9eac-454e-ac01-aba79c2b7603"
      },
      "execution_count": 335,
      "outputs": [
        {
          "output_type": "stream",
          "name": "stdout",
          "text": [
            "14\n"
          ]
        }
      ]
    },
    {
      "cell_type": "markdown",
      "source": [
        "**Bitwise not**"
      ],
      "metadata": {
        "id": "pVC1kGTWrvug"
      }
    },
    {
      "cell_type": "code",
      "source": [
        "print(~a) # -(a+1) = -11"
      ],
      "metadata": {
        "colab": {
          "base_uri": "https://localhost:8080/"
        },
        "id": "LlzzFcTsry3Q",
        "outputId": "7c5e0b46-4195-4f2b-dc9d-30f8ef0f8c6b"
      },
      "execution_count": 336,
      "outputs": [
        {
          "output_type": "stream",
          "name": "stdout",
          "text": [
            "-11\n"
          ]
        }
      ]
    },
    {
      "cell_type": "code",
      "source": [
        "print(~b)"
      ],
      "metadata": {
        "colab": {
          "base_uri": "https://localhost:8080/"
        },
        "id": "EqsvHGaasNeg",
        "outputId": "1be02f16-97a8-44b8-d5dd-51dc855a8a92"
      },
      "execution_count": 337,
      "outputs": [
        {
          "output_type": "stream",
          "name": "stdout",
          "text": [
            "-5\n"
          ]
        }
      ]
    },
    {
      "cell_type": "markdown",
      "source": [
        "**Bitwise right-shift**"
      ],
      "metadata": {
        "id": "rUDPRbaHrzY4"
      }
    },
    {
      "cell_type": "code",
      "source": [
        "print(a>>2) # 1010->10100->2"
      ],
      "metadata": {
        "colab": {
          "base_uri": "https://localhost:8080/"
        },
        "id": "Glkw4HEZr4-7",
        "outputId": "1fd4104c-bb55-44e4-b414-e4adef071350"
      },
      "execution_count": 338,
      "outputs": [
        {
          "output_type": "stream",
          "name": "stdout",
          "text": [
            "2\n"
          ]
        }
      ]
    },
    {
      "cell_type": "markdown",
      "source": [
        "**Bitwise left-shift**"
      ],
      "metadata": {
        "id": "aiiwgQ7Br5UI"
      }
    },
    {
      "cell_type": "code",
      "source": [
        "print(a<<1) # 1010->10100->20"
      ],
      "metadata": {
        "colab": {
          "base_uri": "https://localhost:8080/"
        },
        "id": "6hHuqeQDr98h",
        "outputId": "509151d2-89bd-40b1-9fef-ae70b229f944"
      },
      "execution_count": 339,
      "outputs": [
        {
          "output_type": "stream",
          "name": "stdout",
          "text": [
            "20\n"
          ]
        }
      ]
    },
    {
      "cell_type": "markdown",
      "source": [
        "***5.Assignment Operators*** <br> <br>\n",
        "-> Simple Assignment          (=)   >    x=right side value go to left side<br>\n",
        "-> Add and Assign             (+=)   >    x=x+value<br>\n",
        "-> Subtract and Assign        (-=)   >    x=x-value<br>\n",
        "-> Multiply and Assign        (*=)   >    x=x*value<br>\n",
        "-> Exponent and Assign        (**=)  >    x=x**value<br>\n",
        "-> Divide and Assign          (/=)   >    x=x/value<br>\n",
        "-> Floor Division and Assign  (//=)  >    x=x//value<br>\n",
        "-> Modulus and Assign         (%=)   >    x=x%value<br>\n",
        "-> =, ^=, >>=, <<=`           (&=)   >    bitwise assignment<br>"
      ],
      "metadata": {
        "id": "utYucfY1hsJV"
      }
    },
    {
      "cell_type": "code",
      "source": [
        "a=2\n",
        "print(a)"
      ],
      "metadata": {
        "colab": {
          "base_uri": "https://localhost:8080/"
        },
        "id": "so4l5gYmhxvj",
        "outputId": "f5707e81-59ba-4cfd-e602-18f541d376cd"
      },
      "execution_count": 340,
      "outputs": [
        {
          "output_type": "stream",
          "name": "stdout",
          "text": [
            "2\n"
          ]
        }
      ]
    },
    {
      "cell_type": "code",
      "source": [
        "a+=3\n",
        "print(a)"
      ],
      "metadata": {
        "colab": {
          "base_uri": "https://localhost:8080/"
        },
        "id": "r9o8phmzhy4b",
        "outputId": "15ebfa5a-a353-4fdb-8f3e-d7838b040756"
      },
      "execution_count": 341,
      "outputs": [
        {
          "output_type": "stream",
          "name": "stdout",
          "text": [
            "5\n"
          ]
        }
      ]
    },
    {
      "cell_type": "markdown",
      "source": [
        "**6.Membership Operators**"
      ],
      "metadata": {
        "id": "0M-5yQVhh7b7"
      }
    },
    {
      "cell_type": "code",
      "source": [
        "#in/not in\n",
        "print('B' not in \"Bangladesh\")\n",
        "print('B' in \"Bangladesh\")"
      ],
      "metadata": {
        "colab": {
          "base_uri": "https://localhost:8080/"
        },
        "id": "LHN6Cba3h2Kv",
        "outputId": "d6df161d-efaa-4614-bf23-1bf3d4c6d8df"
      },
      "execution_count": 344,
      "outputs": [
        {
          "output_type": "stream",
          "name": "stdout",
          "text": [
            "False\n",
            "True\n"
          ]
        }
      ]
    },
    {
      "cell_type": "code",
      "source": [],
      "metadata": {
        "id": "qSnCNywyyhnB"
      },
      "execution_count": null,
      "outputs": []
    }
  ]
}