{
  "nbformat": 4,
  "nbformat_minor": 0,
  "metadata": {
    "colab": {
      "provenance": [],
      "authorship_tag": "ABX9TyPKNCspb4LDgyfcn5573Y8V",
      "include_colab_link": true
    },
    "kernelspec": {
      "name": "python3",
      "display_name": "Python 3"
    },
    "language_info": {
      "name": "python"
    }
  },
  "cells": [
    {
      "cell_type": "markdown",
      "metadata": {
        "id": "view-in-github",
        "colab_type": "text"
      },
      "source": [
        "<a href=\"https://colab.research.google.com/github/tamimystic/Data-Science-with-Generative-AI/blob/main/Day_2_Conditional_statements%2Cpip%2C_modules_in_python.ipynb\" target=\"_parent\"><img src=\"https://colab.research.google.com/assets/colab-badge.svg\" alt=\"Open In Colab\"/></a>"
      ]
    },
    {
      "cell_type": "markdown",
      "source": [
        "## ****Today Agenda****\n",
        "1. Condition statement in python <br>\n",
        "2. conditional statement exercises\n",
        "3. modules in python\n",
        "4. pip in python\n",
        "5. how to commit out code to github\n",
        "6. assignment"
      ],
      "metadata": {
        "id": "G_lCdErKAT3l"
      }
    },
    {
      "cell_type": "markdown",
      "source": [
        "# **1. Condition statement in python**"
      ],
      "metadata": {
        "id": "3nHqtIPjA1Ka"
      }
    },
    {
      "cell_type": "code",
      "execution_count": 44,
      "metadata": {
        "id": "xf2V0L4J9Gj9",
        "colab": {
          "base_uri": "https://localhost:8080/",
          "height": 35
        },
        "outputId": "73758b2a-e0af-49c0-e87e-db2ba96a30a7"
      },
      "outputs": [
        {
          "output_type": "execute_result",
          "data": {
            "text/plain": [
              "'\\nactual credintials:\\nemail: abc@gmail.com\\npassword: 12345\\n'"
            ],
            "application/vnd.google.colaboratory.intrinsic+json": {
              "type": "string"
            }
          },
          "metadata": {},
          "execution_count": 44
        }
      ],
      "source": [
        "\"\"\"\n",
        "actual credintials:\n",
        "email: abc@gmail.com\n",
        "password: 12345\n",
        "\"\"\""
      ]
    },
    {
      "cell_type": "code",
      "source": [
        "email=input(\"Enter your email: \")\n",
        "password=input(\"Enter your password: \")\n",
        "\n",
        "actual_email=\"abc@gmail.com\"\n",
        "actual_password=\"12345\"\n",
        "\n",
        "if email==actual_email and password==actual_password:\n",
        "    print(\"wellcome\")\n",
        "else:\n",
        "  print(\"invalid\")\n"
      ],
      "metadata": {
        "colab": {
          "base_uri": "https://localhost:8080/"
        },
        "id": "hxnR_2O4JRuh",
        "outputId": "d97548bc-13ac-46ff-8a4e-898e9b4add22"
      },
      "execution_count": 45,
      "outputs": [
        {
          "output_type": "stream",
          "name": "stdout",
          "text": [
            "Enter your email: abc@gmail.com\n",
            "Enter your password: 12345\n",
            "wellcome\n"
          ]
        }
      ]
    },
    {
      "cell_type": "code",
      "source": [
        "email=input(\"Enter your email: \")\n",
        "password=input(\"Enter your password: \")\n",
        "\n",
        "actual_email=\"abc@gmail.com\"\n",
        "actual_password=\"12345\"\n",
        "\n",
        "if email==actual_email and password==actual_password:\n",
        "    print(\"wellcome\")\n",
        "else:\n",
        "  print(\"invalid\")"
      ],
      "metadata": {
        "colab": {
          "base_uri": "https://localhost:8080/"
        },
        "id": "kzZJfMYgJfvY",
        "outputId": "6af5ed96-5351-44cd-f48e-77d9f828adfd"
      },
      "execution_count": 46,
      "outputs": [
        {
          "output_type": "stream",
          "name": "stdout",
          "text": [
            "Enter your email: dfhsdf@gmail.com\n",
            "Enter your password: 324\n",
            "invalid\n"
          ]
        }
      ]
    },
    {
      "cell_type": "markdown",
      "source": [
        "Nested if-else (Condition)"
      ],
      "metadata": {
        "id": "CKEa_KmZPmdL"
      }
    },
    {
      "cell_type": "code",
      "source": [
        "#use else if (elif)\n",
        "email=input(\"Enter your email: \")\n",
        "password=input(\"Enter your password: \")\n",
        "\n",
        "actual_email=\"abc@gmail.com\"\n",
        "actual_password=\"12345\"\n",
        "\n",
        "if email==actual_email and password!=actual_password:\n",
        "    print(\"Email is right but password wrong\")\n",
        "    email=input(\"Enter your pass again: \")\n",
        "    if password==actual_password:\n",
        "        print(\"Wellcome\")\n",
        "    else:\n",
        "        print(\"invalid\")\n",
        "elif email!=actual_email and password==actual_password:\n",
        "    print(\"Password is right but emial wrong\")\n",
        "elif email==actual_email and password==actual_password:\n",
        "    print(\"Both are\")\n",
        "else:\n",
        "  print(\"Both are wrong\")"
      ],
      "metadata": {
        "colab": {
          "base_uri": "https://localhost:8080/"
        },
        "id": "eoyxcAzVNV5H",
        "outputId": "4a3e28d3-5bdb-44a4-b7be-987688e12f3a"
      },
      "execution_count": 47,
      "outputs": [
        {
          "output_type": "stream",
          "name": "stdout",
          "text": [
            "Enter your email: abc@gmail.com\n",
            "Enter your password: 34545\n",
            "Email is right but password wrong\n",
            "Enter your pass again: 12345\n",
            "invalid\n"
          ]
        }
      ]
    },
    {
      "cell_type": "markdown",
      "source": [
        "*Exercise*"
      ],
      "metadata": {
        "id": "p0fns1TuQ_YK"
      }
    },
    {
      "cell_type": "markdown",
      "source": [
        "1. Find the minimum number from 3 given number"
      ],
      "metadata": {
        "id": "iM4Flpp8RE8m"
      }
    },
    {
      "cell_type": "code",
      "source": [
        "num1=int(input(\"Enter your first number: \"))\n",
        "num2=int(input(\"Enter your second number: \"))\n",
        "num3=int(input(\"Enter your third number: \"))\n",
        "\n",
        "if(num1<num2 and num1<num3):\n",
        "  print(num1, \"is smallest number\")\n",
        "elif(num2<num1 and num2<num3):\n",
        "  print(num2, \"is smallest number\")\n",
        "else:\n",
        "  print(num3, \"is smallest number\")"
      ],
      "metadata": {
        "colab": {
          "base_uri": "https://localhost:8080/"
        },
        "id": "G9_uYV_CNV2V",
        "outputId": "f38fbb9e-3c24-4f45-acbe-3999788f9da9"
      },
      "execution_count": 48,
      "outputs": [
        {
          "output_type": "stream",
          "name": "stdout",
          "text": [
            "Enter your first number: 3\n",
            "Enter your second number: 7\n",
            "Enter your third number: 2\n",
            "2 is smallest number\n"
          ]
        }
      ]
    },
    {
      "cell_type": "markdown",
      "source": [
        "2. Try to build ATM machine <br>\n",
        "  ->1. Change pin<br>\n",
        "  ->2. Check balance <br>\n",
        "  ->3. Withdraw <br>\n",
        "  ->4. Deposit <br>\n",
        "  ->5. Exit <br>"
      ],
      "metadata": {
        "id": "EqRI-RL0WTzs"
      }
    },
    {
      "cell_type": "code",
      "source": [
        "menu=input(\"\"\"\n",
        "Wellcome to ATM machine\n",
        "\n",
        "1.Change pin\n",
        "2. Check balance\n",
        "3. Withdraw\n",
        "4. Deposit\n",
        "5. Exit\n",
        "\"\"\")\n",
        "\n",
        "if(menu==\"1\"):\n",
        "  print(\"Change pin\")\n",
        "elif(menu==\"2\"):\n",
        "  print(\"Check balance\")\n",
        "elif(menu==\"3\"):\n",
        "  print(\"Withdraw\")\n",
        "elif(menu==\"4\"):\n",
        "  print(\"Deposit\")\n",
        "else:\n",
        "  print(\"Exit\")"
      ],
      "metadata": {
        "colab": {
          "base_uri": "https://localhost:8080/"
        },
        "id": "FN_w66HmNV0p",
        "outputId": "606e46d3-3695-47ed-acb0-74527a062590"
      },
      "execution_count": 49,
      "outputs": [
        {
          "output_type": "stream",
          "name": "stdout",
          "text": [
            "\n",
            "Wellcome to ATM machine\n",
            "\n",
            "1.Change pin\n",
            "2. Check balance\n",
            "3. Withdraw\n",
            "4. Deposit\n",
            "5. Exit\n",
            "3\n",
            "Withdraw\n"
          ]
        }
      ]
    },
    {
      "cell_type": "markdown",
      "source": [
        "# **Modules in Python** <br>\n",
        "*In one line, Module in Pre-define code* <br>\n",
        "1. Buildin Module/Package <br>\n",
        "2. External Module/Package <br>\n",
        "\n",
        "https://docs.python.org/3/py-modindex.html\n",
        "\n"
      ],
      "metadata": {
        "id": "KObZedSFbzj_"
      }
    },
    {
      "cell_type": "markdown",
      "source": [
        "\n",
        "**1. Buildin Module/Package** <br>\n",
        "\n",
        "->Internal modules are local to a project or workspace, often used for sharing code within a monorepo <br> ->Think of an internal module like a shared document in a company's internal network. It's available only to employees of that company and is used for company-specific tasks <br> <br>\n",
        "    math <br>\n",
        "    keywords <br>\n",
        "    random <br>\n",
        "    datetime <br>\n",
        "\n"
      ],
      "metadata": {
        "id": "r2TtrOZbd9C_"
      }
    },
    {
      "cell_type": "markdown",
      "source": [
        "1.math"
      ],
      "metadata": {
        "id": "5O9FsqlRe5jX"
      }
    },
    {
      "cell_type": "code",
      "source": [
        "import math"
      ],
      "metadata": {
        "id": "iY8WkjH7Xtsz"
      },
      "execution_count": 50,
      "outputs": []
    },
    {
      "cell_type": "code",
      "source": [
        "math.cos(45)"
      ],
      "metadata": {
        "colab": {
          "base_uri": "https://localhost:8080/"
        },
        "id": "7tG8IW4xelHb",
        "outputId": "b6539c08-a09a-4365-8b78-539a4da5fff8"
      },
      "execution_count": 51,
      "outputs": [
        {
          "output_type": "execute_result",
          "data": {
            "text/plain": [
              "0.5253219888177297"
            ]
          },
          "metadata": {},
          "execution_count": 51
        }
      ]
    },
    {
      "cell_type": "code",
      "source": [
        "math.sqrt(16)"
      ],
      "metadata": {
        "colab": {
          "base_uri": "https://localhost:8080/"
        },
        "id": "jUwBZ52Peq5M",
        "outputId": "d948e3cd-53fa-48fd-e05c-b8b2d5ad2b46"
      },
      "execution_count": 52,
      "outputs": [
        {
          "output_type": "execute_result",
          "data": {
            "text/plain": [
              "4.0"
            ]
          },
          "metadata": {},
          "execution_count": 52
        }
      ]
    },
    {
      "cell_type": "code",
      "source": [
        "math.factorial(5)"
      ],
      "metadata": {
        "colab": {
          "base_uri": "https://localhost:8080/"
        },
        "id": "EgSNbIb0exJF",
        "outputId": "36ea9e34-324d-4fb0-e095-1809b289cb71"
      },
      "execution_count": 53,
      "outputs": [
        {
          "output_type": "execute_result",
          "data": {
            "text/plain": [
              "120"
            ]
          },
          "metadata": {},
          "execution_count": 53
        }
      ]
    },
    {
      "cell_type": "markdown",
      "source": [
        "2. keywords"
      ],
      "metadata": {
        "id": "HP4Ia2pBe_kE"
      }
    },
    {
      "cell_type": "code",
      "source": [
        "import keyword"
      ],
      "metadata": {
        "id": "-Wki1vpDezy2"
      },
      "execution_count": 54,
      "outputs": []
    },
    {
      "cell_type": "code",
      "source": [
        "print(keyword.kwlist)"
      ],
      "metadata": {
        "colab": {
          "base_uri": "https://localhost:8080/"
        },
        "id": "uWiwOFdUfDjw",
        "outputId": "4760d988-1465-442a-dac8-18c8284a4fc9"
      },
      "execution_count": 55,
      "outputs": [
        {
          "output_type": "stream",
          "name": "stdout",
          "text": [
            "['False', 'None', 'True', 'and', 'as', 'assert', 'async', 'await', 'break', 'class', 'continue', 'def', 'del', 'elif', 'else', 'except', 'finally', 'for', 'from', 'global', 'if', 'import', 'in', 'is', 'lambda', 'nonlocal', 'not', 'or', 'pass', 'raise', 'return', 'try', 'while', 'with', 'yield']\n"
          ]
        }
      ]
    },
    {
      "cell_type": "code",
      "source": [
        "print(keyword.iskeyword(\"import\"))"
      ],
      "metadata": {
        "colab": {
          "base_uri": "https://localhost:8080/"
        },
        "id": "PmYfv-ocfJa-",
        "outputId": "3e3be5a5-e12d-4ed9-edf8-77cc2856daa2"
      },
      "execution_count": 56,
      "outputs": [
        {
          "output_type": "stream",
          "name": "stdout",
          "text": [
            "True\n"
          ]
        }
      ]
    },
    {
      "cell_type": "code",
      "source": [
        "print(keyword.iskeyword(\"imports\"))"
      ],
      "metadata": {
        "colab": {
          "base_uri": "https://localhost:8080/"
        },
        "id": "9ySTMXcafRDX",
        "outputId": "ea9adcf8-a5a2-4178-bd3a-d709cb4db8d9"
      },
      "execution_count": 57,
      "outputs": [
        {
          "output_type": "stream",
          "name": "stdout",
          "text": [
            "False\n"
          ]
        }
      ]
    },
    {
      "cell_type": "markdown",
      "source": [
        "3. random"
      ],
      "metadata": {
        "id": "v6R59_4CfTrN"
      }
    },
    {
      "cell_type": "code",
      "source": [
        "import random"
      ],
      "metadata": {
        "id": "C9ggdo6wfMAn"
      },
      "execution_count": 58,
      "outputs": []
    },
    {
      "cell_type": "code",
      "source": [
        "random.randint(1,100)"
      ],
      "metadata": {
        "colab": {
          "base_uri": "https://localhost:8080/"
        },
        "id": "pxknCs29fYTH",
        "outputId": "8a89c5b6-8eb0-4a84-a87e-8fa3855bb0a4"
      },
      "execution_count": 59,
      "outputs": [
        {
          "output_type": "execute_result",
          "data": {
            "text/plain": [
              "47"
            ]
          },
          "metadata": {},
          "execution_count": 59
        }
      ]
    },
    {
      "cell_type": "markdown",
      "source": [
        "4. date-time"
      ],
      "metadata": {
        "id": "CdQmIHUdfdJW"
      }
    },
    {
      "cell_type": "code",
      "source": [
        "import datetime"
      ],
      "metadata": {
        "id": "D8ovIhUCfbzk"
      },
      "execution_count": 60,
      "outputs": []
    },
    {
      "cell_type": "code",
      "source": [
        "datetime.datetime.now()"
      ],
      "metadata": {
        "colab": {
          "base_uri": "https://localhost:8080/"
        },
        "id": "-emv03h4fiNe",
        "outputId": "094344b7-eed0-41a7-d32a-a7761043430b"
      },
      "execution_count": 61,
      "outputs": [
        {
          "output_type": "execute_result",
          "data": {
            "text/plain": [
              "datetime.datetime(2025, 11, 1, 17, 54, 9, 452710)"
            ]
          },
          "metadata": {},
          "execution_count": 61
        }
      ]
    },
    {
      "cell_type": "markdown",
      "source": [
        "**2. External Module/Package** <br>\n",
        "-> External modules are independent packages from a third-party or remote source that must be installed to be used. <br>\n",
        "->Think of an external module like a widely used public software library, like a word processor or a spreadsheet program, that anyone can download and use in their work <br>\n",
        "\n",
        "https://pypi.org/"
      ],
      "metadata": {
        "id": "Sy9eau32fwe0"
      }
    },
    {
      "cell_type": "code",
      "source": [
        "!pip install fastapi"
      ],
      "metadata": {
        "colab": {
          "base_uri": "https://localhost:8080/"
        },
        "id": "geU7ypR2fmMR",
        "outputId": "0db1c2f3-6c20-4b88-ea73-720b8ca3cff3"
      },
      "execution_count": 62,
      "outputs": [
        {
          "output_type": "stream",
          "name": "stdout",
          "text": [
            "Requirement already satisfied: fastapi in /usr/local/lib/python3.12/dist-packages (0.120.1)\n",
            "Requirement already satisfied: starlette<0.50.0,>=0.40.0 in /usr/local/lib/python3.12/dist-packages (from fastapi) (0.49.1)\n",
            "Requirement already satisfied: pydantic!=1.8,!=1.8.1,!=2.0.0,!=2.0.1,!=2.1.0,<3.0.0,>=1.7.4 in /usr/local/lib/python3.12/dist-packages (from fastapi) (2.11.10)\n",
            "Requirement already satisfied: typing-extensions>=4.8.0 in /usr/local/lib/python3.12/dist-packages (from fastapi) (4.15.0)\n",
            "Requirement already satisfied: annotated-doc>=0.0.2 in /usr/local/lib/python3.12/dist-packages (from fastapi) (0.0.3)\n",
            "Requirement already satisfied: annotated-types>=0.6.0 in /usr/local/lib/python3.12/dist-packages (from pydantic!=1.8,!=1.8.1,!=2.0.0,!=2.0.1,!=2.1.0,<3.0.0,>=1.7.4->fastapi) (0.7.0)\n",
            "Requirement already satisfied: pydantic-core==2.33.2 in /usr/local/lib/python3.12/dist-packages (from pydantic!=1.8,!=1.8.1,!=2.0.0,!=2.0.1,!=2.1.0,<3.0.0,>=1.7.4->fastapi) (2.33.2)\n",
            "Requirement already satisfied: typing-inspection>=0.4.0 in /usr/local/lib/python3.12/dist-packages (from pydantic!=1.8,!=1.8.1,!=2.0.0,!=2.0.1,!=2.1.0,<3.0.0,>=1.7.4->fastapi) (0.4.2)\n",
            "Requirement already satisfied: anyio<5,>=3.6.2 in /usr/local/lib/python3.12/dist-packages (from starlette<0.50.0,>=0.40.0->fastapi) (4.11.0)\n",
            "Requirement already satisfied: idna>=2.8 in /usr/local/lib/python3.12/dist-packages (from anyio<5,>=3.6.2->starlette<0.50.0,>=0.40.0->fastapi) (3.11)\n",
            "Requirement already satisfied: sniffio>=1.1 in /usr/local/lib/python3.12/dist-packages (from anyio<5,>=3.6.2->starlette<0.50.0,>=0.40.0->fastapi) (1.3.1)\n"
          ]
        }
      ]
    },
    {
      "cell_type": "code",
      "source": [
        "from typing import Union"
      ],
      "metadata": {
        "id": "Jeei34f0ggV8"
      },
      "execution_count": 63,
      "outputs": []
    },
    {
      "cell_type": "code",
      "source": [
        "from fastapi import FastAPI"
      ],
      "metadata": {
        "id": "zCsYVAIfh9hv"
      },
      "execution_count": 64,
      "outputs": []
    },
    {
      "cell_type": "code",
      "source": [
        "app=FastAPI()"
      ],
      "metadata": {
        "id": "ydk7lbcEiMZW"
      },
      "execution_count": 65,
      "outputs": []
    },
    {
      "cell_type": "code",
      "source": [
        "@app.get(\"/\")\n",
        "def read_root():\n",
        "    return {\"Hello\": \"World\"}"
      ],
      "metadata": {
        "id": "dAanUvieiBms"
      },
      "execution_count": 66,
      "outputs": []
    },
    {
      "cell_type": "code",
      "source": [
        "if __name__==\"__main__\":\n",
        "    import uvicorn\n",
        "    uvicorn.run(\"main:app\",host=\"127.0.0.1\",port=8000,reload=True)"
      ],
      "metadata": {
        "id": "aEprbw8zincN"
      },
      "execution_count": 71,
      "outputs": []
    },
    {
      "cell_type": "code",
      "source": [
        "# uvicorn main:app --reload"
      ],
      "metadata": {
        "id": "NBQrKgDhp0he"
      },
      "execution_count": 73,
      "outputs": []
    },
    {
      "cell_type": "markdown",
      "source": [
        "# We can download package/module/library using pip/!pip command <br>\n",
        "pip install fastapi"
      ],
      "metadata": {
        "id": "JQs3yWyZo1L3"
      }
    },
    {
      "cell_type": "code",
      "source": [],
      "metadata": {
        "id": "VN6O4Jeol1fe"
      },
      "execution_count": 71,
      "outputs": []
    },
    {
      "cell_type": "code",
      "source": [],
      "metadata": {
        "id": "m-_TUWK-l3iF"
      },
      "execution_count": null,
      "outputs": []
    }
  ]
}